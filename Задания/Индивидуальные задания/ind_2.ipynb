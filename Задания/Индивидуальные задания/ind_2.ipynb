{
 "cells": [
  {
   "cell_type": "markdown",
   "id": "910d5017",
   "metadata": {},
   "source": [
    "# Индивидуальное задание 2\n",
    "Рассчитать методом контурных токов токи в ветвях для заданной  \n",
    "электрической цепи с источниками ЭДС  \n",
    "![zadanie](./zadanie.png)"
   ]
  },
  {
   "cell_type": "code",
   "execution_count": 1,
   "id": "c6d5824b",
   "metadata": {},
   "outputs": [],
   "source": [
    "import numpy as np"
   ]
  },
  {
   "cell_type": "code",
   "execution_count": 2,
   "id": "94a05c57",
   "metadata": {},
   "outputs": [],
   "source": [
    "r1 = 35\n",
    "r2 = 70\n",
    "r3 = 50\n",
    "r4 = 50\n",
    "e1 = 40\n",
    "e2 = 20\n",
    "e3 = 15"
   ]
  },
  {
   "cell_type": "code",
   "execution_count": 9,
   "id": "9e32eaf6",
   "metadata": {},
   "outputs": [],
   "source": [
    "a1 = [1, 0, -1, r1, 0, 0]\n",
    "a2 = [1, 0, 0, 0, -r2, 0]\n",
    "a3 = [-1, 1, 0, r3, -r3, 0]\n",
    "a4 = [0, -1, 0, 0, -r4, r4]\n",
    "a5 = [0, 1, -1, 0, 0, 0]\n",
    "a6 = [0, 0, -1, 0, 0, 0]\n",
    "b = [0, 0, 0, -e1, -e2-e3, e1 + e3]"
   ]
  },
  {
   "cell_type": "code",
   "execution_count": 12,
   "id": "d508eb44",
   "metadata": {},
   "outputs": [],
   "source": [
    "d = np.linalg.det(np.transpose(np.matrix([a1, a2, a3, a4, a5, a6])))\n",
    "d1 = np.linalg.det(np.transpose(np.matrix([b, a2, a3, a4, a5, a6])))\n",
    "d2 = np.linalg.det(np.transpose(np.matrix([a1, b, a3, a4, a5, a6])))\n",
    "d3 = np.linalg.det(np.transpose(np.matrix([a1, a2, b, a4, a5, a6])))\n",
    "d4 = np.linalg.det(np.transpose(np.matrix([a1, a2, a3, b, a5, a6])))\n",
    "d5 = np.linalg.det(np.transpose(np.matrix([a1, a2, a3, a4, b, a6])))\n",
    "d6 = np.linalg.det(np.transpose(np.matrix([a1, a2, a3, a4, a5, b])))"
   ]
  },
  {
   "cell_type": "code",
   "execution_count": 21,
   "id": "c0fa3b13",
   "metadata": {},
   "outputs": [
    {
     "name": "stdout",
     "output_type": "stream",
     "text": [
      "Решение\n",
      "I1 = -0.494 A\n",
      "I2 = 0.039 A\n",
      "I3 = -0.455 A\n",
      "I4 = 1.100 A\n",
      "I5 = 1.555 A\n",
      "I6 = -1.061 A\n"
     ]
    }
   ],
   "source": [
    "print(\"Решение\")\n",
    "print(f\"I1 = {d1/d:.3f} A\")\n",
    "print(f\"I2 = {d2/d:.3f} A\")\n",
    "print(f\"I3 = {d3/d:.3f} A\")\n",
    "print(f\"I4 = {d4/d:.3f} A\")\n",
    "print(f\"I5 = {d5/d:.3f} A\")\n",
    "print(f\"I6 = {d6/d:.3f} A\")"
   ]
  },
  {
   "cell_type": "code",
   "execution_count": null,
   "id": "850069e1",
   "metadata": {},
   "outputs": [],
   "source": []
  }
 ],
 "metadata": {
  "kernelspec": {
   "display_name": "Python 3 (ipykernel)",
   "language": "python",
   "name": "python3"
  },
  "language_info": {
   "codemirror_mode": {
    "name": "ipython",
    "version": 3
   },
   "file_extension": ".py",
   "mimetype": "text/x-python",
   "name": "python",
   "nbconvert_exporter": "python",
   "pygments_lexer": "ipython3",
   "version": "3.9.7"
  }
 },
 "nbformat": 4,
 "nbformat_minor": 5
}
