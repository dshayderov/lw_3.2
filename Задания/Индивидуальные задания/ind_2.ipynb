{
 "cells": [
  {
   "cell_type": "markdown",
   "id": "910d5017",
   "metadata": {},
   "source": [
    "# Индивидуальное задание 2\n",
    "\n",
    ">Создать ноутбук, в котором выполнить решение вычислительной задачи (например, задачи из области физики, экономики, математики, статистики и т. д.).\n",
    "\n",
    "Рассчитать методом контурных токов токи в ветвях для заданной  \n",
    "электрической цепи с источниками ЭДС  \n",
    "![zadanie](./zadanie.png)"
   ]
  },
  {
   "cell_type": "code",
   "execution_count": 1,
   "id": "c6d5824b",
   "metadata": {},
   "outputs": [],
   "source": [
    "import numpy as np"
   ]
  },
  {
   "cell_type": "markdown",
   "id": "b24dd9d3",
   "metadata": {},
   "source": [
    "Определяем заданные значения параметров цепи."
   ]
  },
  {
   "cell_type": "code",
   "execution_count": 2,
   "id": "94a05c57",
   "metadata": {},
   "outputs": [],
   "source": [
    "r1 = 35\n",
    "r2 = 70\n",
    "r3 = 50\n",
    "r4 = 50\n",
    "e1 = 40\n",
    "e2 = 20\n",
    "e3 = 15"
   ]
  },
  {
   "cell_type": "markdown",
   "id": "3ff91195",
   "metadata": {},
   "source": [
    "Определяем сисетму уравнений по первому и второму законам Кирхгофа:\n",
    "\\begin{cases}\n",
    "I_1 - I_3 + I_2 = 0 \\\\\n",
    "I_3 - I_4 + I_5 = 0 \\\\\n",
    "-I_1 - I_5 - I_6 = 0 \\\\\n",
    "I_1R_1 + I_3R_3 = -E_1 \\\\\n",
    "-I_2R_2 - I_3R_3 - I_4R_4 = -E_2 - E_3 \\\\\n",
    "I_4R_4 = E_1 + E_3\n",
    "\\end{cases}"
   ]
  },
  {
   "cell_type": "markdown",
   "id": "29f0d58f",
   "metadata": {},
   "source": [
    "Составим матрицы. Найдем определители основной и дополнительных матриц"
   ]
  },
  {
   "cell_type": "code",
   "execution_count": 3,
   "id": "9e32eaf6",
   "metadata": {},
   "outputs": [],
   "source": [
    "a1 = [1, 0, -1, r1, 0, 0]\n",
    "a2 = [1, 0, 0, 0, -r2, 0]\n",
    "a3 = [-1, 1, 0, r3, -r3, 0]\n",
    "a4 = [0, -1, 0, 0, -r4, r4]\n",
    "a5 = [0, 1, -1, 0, 0, 0]\n",
    "a6 = [0, 0, -1, 0, 0, 0]\n",
    "b = [0, 0, 0, -e1, -e2-e3, e1 + e3]"
   ]
  },
  {
   "cell_type": "code",
   "execution_count": 4,
   "id": "d508eb44",
   "metadata": {},
   "outputs": [],
   "source": [
    "Δ = np.linalg.det(np.transpose(np.matrix([a1, a2, a3, a4, a5, a6])))\n",
    "Δ1 = np.linalg.det(np.transpose(np.matrix([b, a2, a3, a4, a5, a6])))\n",
    "Δ2 = np.linalg.det(np.transpose(np.matrix([a1, b, a3, a4, a5, a6])))\n",
    "Δ3 = np.linalg.det(np.transpose(np.matrix([a1, a2, b, a4, a5, a6])))\n",
    "Δ4 = np.linalg.det(np.transpose(np.matrix([a1, a2, a3, b, a5, a6])))\n",
    "Δ5 = np.linalg.det(np.transpose(np.matrix([a1, a2, a3, a4, b, a6])))\n",
    "Δ6 = np.linalg.det(np.transpose(np.matrix([a1, a2, a3, a4, a5, b])))"
   ]
  },
  {
   "cell_type": "code",
   "execution_count": 6,
   "id": "817ba93d",
   "metadata": {},
   "outputs": [
    {
     "name": "stdout",
     "output_type": "stream",
     "text": [
      "Δ = -385000\n",
      "Δ1 = 190000\n",
      "Δ2 = -15000\n",
      "Δ3 = 175000\n",
      "Δ4 = -423500\n",
      "Δ5 = -598500\n",
      "Δ6 = 408500\n"
     ]
    }
   ],
   "source": [
    "print(f\"Δ = {round(Δ)}\")\n",
    "print(f\"Δ1 = {round(Δ1)}\")\n",
    "print(f\"Δ2 = {round(Δ2)}\")\n",
    "print(f\"Δ3 = {round(Δ3)}\")\n",
    "print(f\"Δ4 = {round(Δ4)}\")\n",
    "print(f\"Δ5 = {round(Δ5)}\")\n",
    "print(f\"Δ6 = {round(Δ6)}\")"
   ]
  },
  {
   "cell_type": "markdown",
   "id": "93507c61",
   "metadata": {},
   "source": [
    "Найдем токи в ветвях по формуле:\n",
    "\\begin{equation}\n",
    "I_i = \\frac{Δ_i}{Δ}\n",
    "\\end{equation}"
   ]
  },
  {
   "cell_type": "code",
   "execution_count": 7,
   "id": "c0fa3b13",
   "metadata": {},
   "outputs": [
    {
     "name": "stdout",
     "output_type": "stream",
     "text": [
      "Решение\n",
      "I1 = -0.494 A\n",
      "I2 = 0.039 A\n",
      "I3 = -0.455 A\n",
      "I4 = 1.100 A\n",
      "I5 = 1.555 A\n",
      "I6 = -1.061 A\n"
     ]
    }
   ],
   "source": [
    "print(\"Решение\")\n",
    "print(f\"I1 = {Δ1/Δ:.3f} A\")\n",
    "print(f\"I2 = {Δ2/Δ:.3f} A\")\n",
    "print(f\"I3 = {Δ3/Δ:.3f} A\")\n",
    "print(f\"I4 = {Δ4/Δ:.3f} A\")\n",
    "print(f\"I5 = {Δ5/Δ:.3f} A\")\n",
    "print(f\"I6 = {Δ6/Δ:.3f} A\")"
   ]
  },
  {
   "cell_type": "code",
   "execution_count": null,
   "id": "518d8c53",
   "metadata": {},
   "outputs": [],
   "source": []
  }
 ],
 "metadata": {
  "kernelspec": {
   "display_name": "Python 3 (ipykernel)",
   "language": "python",
   "name": "python3"
  },
  "language_info": {
   "codemirror_mode": {
    "name": "ipython",
    "version": 3
   },
   "file_extension": ".py",
   "mimetype": "text/x-python",
   "name": "python",
   "nbconvert_exporter": "python",
   "pygments_lexer": "ipython3",
   "version": "3.9.7"
  }
 },
 "nbformat": 4,
 "nbformat_minor": 5
}
