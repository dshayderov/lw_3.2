{
 "cells": [
  {
   "cell_type": "markdown",
   "id": "798eb63e",
   "metadata": {},
   "source": [
    "# Индивидуальное задание 1\n",
    "\n",
    ">Создать ноутбук, в котором выполнить решение индивидуального задания. Ноутбук должен содержать условие индивидуального задания. При решении индивидуального задания не должны быть использованы условный оператор if, а также операторы циклов while и\n",
    "for, а только средства библиотеки NumPy.\n",
    "\n",
    "Дана целочисленная квадратная матрица.  \n",
    "Определить:  \n",
    "• произведение элементов в тех строках, которые не содержат отрицательных элементов;  \n",
    "• максимум среди сумм элементов диагоналей, параллельных главной диагонали матрицы.  \n",
    "Не должны быть использованы условный оператор if, а также операторы циклов while и\n",
    "for, а только средства библиотеки NumPy."
   ]
  },
  {
   "cell_type": "code",
   "execution_count": 1,
   "id": "82797466",
   "metadata": {},
   "outputs": [],
   "source": [
    "import numpy as np"
   ]
  },
  {
   "cell_type": "code",
   "execution_count": 2,
   "id": "f85b3e29",
   "metadata": {},
   "outputs": [
    {
     "name": "stdout",
     "output_type": "stream",
     "text": [
      "[[11 -5 19 71 17]\n",
      " [61 59 15 -7 80]\n",
      " [34 34 73 18  8]\n",
      " [70 79 33 22  1]\n",
      " [54 67 57 22 33]]\n"
     ]
    }
   ],
   "source": [
    "n = 5\n",
    "a = np.random.randint(-10, 100, (n, n))\n",
    "print(a)"
   ]
  },
  {
   "cell_type": "code",
   "execution_count": 3,
   "id": "fac39eab",
   "metadata": {},
   "outputs": [
    {
     "name": "stdout",
     "output_type": "stream",
     "text": [
      "Произведение в строках без отрицательных элементов: [ 12151872   4014780 149720076]\n"
     ]
    }
   ],
   "source": [
    "pos_a = a[np.where(a.min(axis=1) > 0)].prod(axis=1)\n",
    "print(f\"Произведение в строках без отрицательных элементов: {pos_a}\")"
   ]
  },
  {
   "cell_type": "code",
   "execution_count": 4,
   "id": "8cf894c4",
   "metadata": {
    "scrolled": true
   },
   "outputs": [
    {
     "name": "stdout",
     "output_type": "stream",
     "text": [
      "Максимум среди сумм элементов диагоналей, параллельных главной диагонали: 170\n"
     ]
    }
   ],
   "source": [
    "maximum = max([\n",
    "    sum(np.diag(a, k=-3)),\n",
    "    sum(np.diag(a, k=-2)),\n",
    "    sum(np.diag(a, k=-1)),\n",
    "    sum(np.diag(a, k=1)),\n",
    "    sum(np.diag(a, k=2)),\n",
    "    sum(np.diag(a, k=3))])\n",
    "print(f\"Максимум среди сумм элементов диагоналей, параллельных главной диагонали: {maximum}\")"
   ]
  },
  {
   "cell_type": "code",
   "execution_count": null,
   "id": "28cebae2",
   "metadata": {},
   "outputs": [],
   "source": []
  }
 ],
 "metadata": {
  "kernelspec": {
   "display_name": "Python 3 (ipykernel)",
   "language": "python",
   "name": "python3"
  },
  "language_info": {
   "codemirror_mode": {
    "name": "ipython",
    "version": 3
   },
   "file_extension": ".py",
   "mimetype": "text/x-python",
   "name": "python",
   "nbconvert_exporter": "python",
   "pygments_lexer": "ipython3",
   "version": "3.9.7"
  }
 },
 "nbformat": 4,
 "nbformat_minor": 5
}
